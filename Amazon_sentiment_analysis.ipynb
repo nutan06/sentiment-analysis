{
 "cells": [
  {
   "cell_type": "markdown",
   "metadata": {},
   "source": [
    "# Amazon Sentiment Analysis"
   ]
  },
  {
   "cell_type": "markdown",
   "metadata": {},
   "source": [
    "__Author : Nutan Mandale__\n",
    "    \n",
    "    \n",
    "__Mentor: Vincent Ramadhine__"
   ]
  },
  {
   "cell_type": "markdown",
   "metadata": {},
   "source": [
    "In this notebook I am doing a sentiment analysis on the amazon's books review. The steps that will be followed for the analysis are\n",
    "\n",
    "1.Importing the data from JSON file and creating a dataframe.\n",
    "\n",
    "2.Cleaning and analysing the data.\n",
    "\n",
    "3.Analysing with BoW approach with the help of various classification models.\n",
    "\n",
    "4.Doing the parameter tunning for best performing model to further improve the performance.\n",
    "\n",
    "5.Analysing with term frequency and document frequeny on various models.\n",
    "\n",
    "6.Doing parameter tunning for best performing model to improve performance.\n",
    "\n",
    "7.Tunning the vectorizer with ngrams and min_df and analyzing with various models.\n",
    "\n",
    "8.Conclusion"
   ]
  },
  {
   "cell_type": "markdown",
   "metadata": {},
   "source": [
    "### Data Description:"
   ]
  },
  {
   "cell_type": "markdown",
   "metadata": {},
   "source": [
    "This dataset contains product reviews and metadata from Amazon, including 142.8 million reviews spanning May 1996 - July 2014.\n",
    "\n",
    "The data I am dealing with is the Books review.\n",
    "This is a JSON file with more than 22 million reviews."
   ]
  },
  {
   "cell_type": "markdown",
   "metadata": {},
   "source": [
    "Some important features in this data set are:\n",
    "    \n",
    "    reviewerID - ID of the reviewer, e.g. A2SUAM1J3GNN3B\n",
    "    asin - ID of the product, e.g. 0000013714\n",
    "    reviewerName - name of the reviewer\n",
    "    helpful - helpfulness rating of the review, e.g. 2/3\n",
    "    reviewText - text of the review\n",
    "    overall - rating of the product\n",
    "    summary - summary of the review\n",
    "    unixReviewTime - time of the review (unix time)\n",
    "    reviewTime - time of the review (raw)"
   ]
  },
  {
   "cell_type": "code",
   "execution_count": 1,
   "metadata": {
    "collapsed": true
   },
   "outputs": [],
   "source": [
    "%matplotlib inline\n",
    "import numpy as np\n",
    "import pandas as pd\n",
    "import scipy\n",
    "import sklearn\n",
    "import matplotlib.pyplot as plt\n",
    "import seaborn as sns\n",
    "from sklearn import naive_bayes\n",
    "import re\n",
    "from nltk.corpus import gutenberg, stopwords\n",
    "from collections import Counter\n",
    "from sklearn.feature_extraction.text import CountVectorizer\n",
    "from sklearn import metrics\n",
    "from sklearn.model_selection import cross_val_score, train_test_split\n",
    "from sklearn.metrics import confusion_matrix, make_scorer,accuracy_score,roc_curve,auc,classification_report\n",
    "from sklearn import tree\n",
    "from sklearn import linear_model\n",
    "from sklearn.linear_model import RidgeClassifier\n",
    "from sklearn.linear_model import LogisticRegression\n",
    "from sklearn.tree import DecisionTreeClassifier\n",
    "from sklearn.neighbors import KNeighborsClassifier\n",
    "from sklearn import ensemble\n",
    "from sklearn.ensemble import GradientBoostingClassifier\n",
    "from sklearn.naive_bayes import BernoulliNB, MultinomialNB\n",
    "from sklearn.naive_bayes import GaussianNB\n",
    "from sklearn.svm import LinearSVC\n",
    "from sklearn.preprocessing import StandardScaler\n",
    "from IPython.display import Image\n",
    "import pydotplus\n",
    "import graphviz"
   ]
  },
  {
   "cell_type": "markdown",
   "metadata": {},
   "source": [
    "The data set contains more than 22 million reviews so will import the data in small sample."
   ]
  },
  {
   "cell_type": "markdown",
   "metadata": {},
   "source": [
    "### Data Extraction"
   ]
  },
  {
   "cell_type": "code",
   "execution_count": 2,
   "metadata": {},
   "outputs": [
    {
     "data": {
      "text/html": [
       "<div>\n",
       "<style>\n",
       "    .dataframe thead tr:only-child th {\n",
       "        text-align: right;\n",
       "    }\n",
       "\n",
       "    .dataframe thead th {\n",
       "        text-align: left;\n",
       "    }\n",
       "\n",
       "    .dataframe tbody tr th {\n",
       "        vertical-align: top;\n",
       "    }\n",
       "</style>\n",
       "<table border=\"1\" class=\"dataframe\">\n",
       "  <thead>\n",
       "    <tr style=\"text-align: right;\">\n",
       "      <th></th>\n",
       "      <th>asin</th>\n",
       "      <th>helpful</th>\n",
       "      <th>overall</th>\n",
       "      <th>reviewText</th>\n",
       "      <th>reviewTime</th>\n",
       "      <th>reviewerID</th>\n",
       "      <th>reviewerName</th>\n",
       "      <th>summary</th>\n",
       "      <th>unixReviewTime</th>\n",
       "    </tr>\n",
       "  </thead>\n",
       "  <tbody>\n",
       "    <tr>\n",
       "      <th>0</th>\n",
       "      <td>000100039X</td>\n",
       "      <td>[0, 0]</td>\n",
       "      <td>5</td>\n",
       "      <td>Spiritually and mentally inspiring! A book tha...</td>\n",
       "      <td>12 16, 2012</td>\n",
       "      <td>A10000012B7CGYKOMPQ4L</td>\n",
       "      <td>Adam</td>\n",
       "      <td>Wonderful!</td>\n",
       "      <td>1355616000</td>\n",
       "    </tr>\n",
       "    <tr>\n",
       "      <th>1</th>\n",
       "      <td>000100039X</td>\n",
       "      <td>[0, 2]</td>\n",
       "      <td>5</td>\n",
       "      <td>This is one my must have books. It is a master...</td>\n",
       "      <td>12 11, 2003</td>\n",
       "      <td>A2S166WSCFIFP5</td>\n",
       "      <td>adead_poet@hotmail.com \"adead_poet@hotmail.com\"</td>\n",
       "      <td>close to god</td>\n",
       "      <td>1071100800</td>\n",
       "    </tr>\n",
       "    <tr>\n",
       "      <th>2</th>\n",
       "      <td>000100039X</td>\n",
       "      <td>[0, 0]</td>\n",
       "      <td>5</td>\n",
       "      <td>This book provides a reflection that you can a...</td>\n",
       "      <td>01 18, 2014</td>\n",
       "      <td>A1BM81XB4QHOA3</td>\n",
       "      <td>Ahoro Blethends \"Seriously\"</td>\n",
       "      <td>Must Read for Life Afficianados</td>\n",
       "      <td>1390003200</td>\n",
       "    </tr>\n",
       "    <tr>\n",
       "      <th>3</th>\n",
       "      <td>000100039X</td>\n",
       "      <td>[0, 0]</td>\n",
       "      <td>5</td>\n",
       "      <td>I first read THE PROPHET in college back in th...</td>\n",
       "      <td>09 27, 2011</td>\n",
       "      <td>A1MOSTXNIO5MPJ</td>\n",
       "      <td>Alan Krug</td>\n",
       "      <td>Timeless for every good and bad time in your l...</td>\n",
       "      <td>1317081600</td>\n",
       "    </tr>\n",
       "    <tr>\n",
       "      <th>4</th>\n",
       "      <td>000100039X</td>\n",
       "      <td>[7, 9]</td>\n",
       "      <td>5</td>\n",
       "      <td>A timeless classic.  It is a very demanding an...</td>\n",
       "      <td>10 7, 2002</td>\n",
       "      <td>A2XQ5LZHTD4AFT</td>\n",
       "      <td>Alaturka</td>\n",
       "      <td>A Modern Rumi</td>\n",
       "      <td>1033948800</td>\n",
       "    </tr>\n",
       "  </tbody>\n",
       "</table>\n",
       "</div>"
      ],
      "text/plain": [
       "         asin helpful  overall  \\\n",
       "0  000100039X  [0, 0]        5   \n",
       "1  000100039X  [0, 2]        5   \n",
       "2  000100039X  [0, 0]        5   \n",
       "3  000100039X  [0, 0]        5   \n",
       "4  000100039X  [7, 9]        5   \n",
       "\n",
       "                                          reviewText   reviewTime  \\\n",
       "0  Spiritually and mentally inspiring! A book tha...  12 16, 2012   \n",
       "1  This is one my must have books. It is a master...  12 11, 2003   \n",
       "2  This book provides a reflection that you can a...  01 18, 2014   \n",
       "3  I first read THE PROPHET in college back in th...  09 27, 2011   \n",
       "4  A timeless classic.  It is a very demanding an...   10 7, 2002   \n",
       "\n",
       "              reviewerID                                     reviewerName  \\\n",
       "0  A10000012B7CGYKOMPQ4L                                             Adam   \n",
       "1         A2S166WSCFIFP5  adead_poet@hotmail.com \"adead_poet@hotmail.com\"   \n",
       "2         A1BM81XB4QHOA3                      Ahoro Blethends \"Seriously\"   \n",
       "3         A1MOSTXNIO5MPJ                                        Alan Krug   \n",
       "4         A2XQ5LZHTD4AFT                                         Alaturka   \n",
       "\n",
       "                                             summary  unixReviewTime  \n",
       "0                                         Wonderful!      1355616000  \n",
       "1                                       close to god      1071100800  \n",
       "2                    Must Read for Life Afficianados      1390003200  \n",
       "3  Timeless for every good and bad time in your l...      1317081600  \n",
       "4                                      A Modern Rumi      1033948800  "
      ]
     },
     "execution_count": 2,
     "metadata": {},
     "output_type": "execute_result"
    }
   ],
   "source": [
    "\n",
    "reviews = []\n",
    "MAX_REVIEWS = 100000\n",
    "filename = \"./Books_5.json\"\n",
    "with open(filename, 'r') as f:\n",
    "    for i in range(MAX_REVIEWS):\n",
    "        reviews.append(f.readline().strip()) \n",
    "df = pd.concat([pd.read_json(review, lines=True) for review in reviews], ignore_index=True) \n",
    "df.head()"
   ]
  },
  {
   "cell_type": "markdown",
   "metadata": {},
   "source": [
    "### Data Analysis"
   ]
  },
  {
   "cell_type": "code",
   "execution_count": 3,
   "metadata": {},
   "outputs": [
    {
     "data": {
      "text/plain": [
       "(100000, 9)"
      ]
     },
     "execution_count": 3,
     "metadata": {},
     "output_type": "execute_result"
    }
   ],
   "source": [
    "df.shape"
   ]
  },
  {
   "cell_type": "code",
   "execution_count": 4,
   "metadata": {},
   "outputs": [
    {
     "name": "stdout",
     "output_type": "stream",
     "text": [
      "<class 'pandas.core.frame.DataFrame'>\n",
      "RangeIndex: 100000 entries, 0 to 99999\n",
      "Data columns (total 9 columns):\n",
      "asin              100000 non-null object\n",
      "helpful           100000 non-null object\n",
      "overall           100000 non-null int64\n",
      "reviewText        100000 non-null object\n",
      "reviewTime        100000 non-null object\n",
      "reviewerID        100000 non-null object\n",
      "reviewerName      99948 non-null object\n",
      "summary           100000 non-null object\n",
      "unixReviewTime    100000 non-null int64\n",
      "dtypes: int64(2), object(7)\n",
      "memory usage: 6.9+ MB\n"
     ]
    }
   ],
   "source": [
    "df.info()"
   ]
  },
  {
   "cell_type": "code",
   "execution_count": 5,
   "metadata": {
    "collapsed": true
   },
   "outputs": [],
   "source": [
    "# Drop missing values\n",
    "df.dropna(inplace=True)"
   ]
  },
  {
   "cell_type": "code",
   "execution_count": 6,
   "metadata": {},
   "outputs": [
    {
     "data": {
      "text/plain": [
       "(99948, 9)"
      ]
     },
     "execution_count": 6,
     "metadata": {},
     "output_type": "execute_result"
    }
   ],
   "source": [
    "df.shape"
   ]
  },
  {
   "cell_type": "code",
   "execution_count": 7,
   "metadata": {},
   "outputs": [
    {
     "data": {
      "text/plain": [
       "(88998, 10)"
      ]
     },
     "execution_count": 7,
     "metadata": {},
     "output_type": "execute_result"
    }
   ],
   "source": [
    "# Drop missing values\n",
    "df.dropna()\n",
    "\n",
    "# Remove any 'neutral' ratings equal to 3\n",
    "df = df[df['overall'] != 3]\n",
    "\n",
    "# Encode 4s and 5s as 1 (rated positively)\n",
    "# Encode 1s and 2s as 0 (rated poorly)\n",
    "df['Positively Rated'] = np.where(df['overall'] > 3, 1, 0)\n",
    "\n",
    "df.shape"
   ]
  },
  {
   "cell_type": "code",
   "execution_count": 8,
   "metadata": {},
   "outputs": [
    {
     "data": {
      "text/html": [
       "<div>\n",
       "<style>\n",
       "    .dataframe thead tr:only-child th {\n",
       "        text-align: right;\n",
       "    }\n",
       "\n",
       "    .dataframe thead th {\n",
       "        text-align: left;\n",
       "    }\n",
       "\n",
       "    .dataframe tbody tr th {\n",
       "        vertical-align: top;\n",
       "    }\n",
       "</style>\n",
       "<table border=\"1\" class=\"dataframe\">\n",
       "  <thead>\n",
       "    <tr style=\"text-align: right;\">\n",
       "      <th></th>\n",
       "      <th>asin</th>\n",
       "      <th>helpful</th>\n",
       "      <th>overall</th>\n",
       "      <th>reviewText</th>\n",
       "      <th>reviewTime</th>\n",
       "      <th>reviewerID</th>\n",
       "      <th>reviewerName</th>\n",
       "      <th>summary</th>\n",
       "      <th>unixReviewTime</th>\n",
       "      <th>Positively Rated</th>\n",
       "    </tr>\n",
       "  </thead>\n",
       "  <tbody>\n",
       "    <tr>\n",
       "      <th>0</th>\n",
       "      <td>000100039X</td>\n",
       "      <td>[0, 0]</td>\n",
       "      <td>5</td>\n",
       "      <td>Spiritually and mentally inspiring! A book tha...</td>\n",
       "      <td>12 16, 2012</td>\n",
       "      <td>A10000012B7CGYKOMPQ4L</td>\n",
       "      <td>Adam</td>\n",
       "      <td>Wonderful!</td>\n",
       "      <td>1355616000</td>\n",
       "      <td>1</td>\n",
       "    </tr>\n",
       "    <tr>\n",
       "      <th>1</th>\n",
       "      <td>000100039X</td>\n",
       "      <td>[0, 2]</td>\n",
       "      <td>5</td>\n",
       "      <td>This is one my must have books. It is a master...</td>\n",
       "      <td>12 11, 2003</td>\n",
       "      <td>A2S166WSCFIFP5</td>\n",
       "      <td>adead_poet@hotmail.com \"adead_poet@hotmail.com\"</td>\n",
       "      <td>close to god</td>\n",
       "      <td>1071100800</td>\n",
       "      <td>1</td>\n",
       "    </tr>\n",
       "    <tr>\n",
       "      <th>2</th>\n",
       "      <td>000100039X</td>\n",
       "      <td>[0, 0]</td>\n",
       "      <td>5</td>\n",
       "      <td>This book provides a reflection that you can a...</td>\n",
       "      <td>01 18, 2014</td>\n",
       "      <td>A1BM81XB4QHOA3</td>\n",
       "      <td>Ahoro Blethends \"Seriously\"</td>\n",
       "      <td>Must Read for Life Afficianados</td>\n",
       "      <td>1390003200</td>\n",
       "      <td>1</td>\n",
       "    </tr>\n",
       "  </tbody>\n",
       "</table>\n",
       "</div>"
      ],
      "text/plain": [
       "         asin helpful  overall  \\\n",
       "0  000100039X  [0, 0]        5   \n",
       "1  000100039X  [0, 2]        5   \n",
       "2  000100039X  [0, 0]        5   \n",
       "\n",
       "                                          reviewText   reviewTime  \\\n",
       "0  Spiritually and mentally inspiring! A book tha...  12 16, 2012   \n",
       "1  This is one my must have books. It is a master...  12 11, 2003   \n",
       "2  This book provides a reflection that you can a...  01 18, 2014   \n",
       "\n",
       "              reviewerID                                     reviewerName  \\\n",
       "0  A10000012B7CGYKOMPQ4L                                             Adam   \n",
       "1         A2S166WSCFIFP5  adead_poet@hotmail.com \"adead_poet@hotmail.com\"   \n",
       "2         A1BM81XB4QHOA3                      Ahoro Blethends \"Seriously\"   \n",
       "\n",
       "                           summary  unixReviewTime  Positively Rated  \n",
       "0                       Wonderful!      1355616000                 1  \n",
       "1                     close to god      1071100800                 1  \n",
       "2  Must Read for Life Afficianados      1390003200                 1  "
      ]
     },
     "execution_count": 8,
     "metadata": {},
     "output_type": "execute_result"
    }
   ],
   "source": [
    "df.head(3)"
   ]
  },
  {
   "cell_type": "code",
   "execution_count": 9,
   "metadata": {},
   "outputs": [
    {
     "data": {
      "image/png": "[encoded data removed]",
      "text/plain": [
       "<matplotlib.figure.Figure at 0x1a0167bd908>"
      ]
     },
     "metadata": {},
     "output_type": "display_data"
    }
   ],
   "source": [
    "sns.countplot(\"Positively Rated\",data=df);"
   ]
  },
  {
   "cell_type": "markdown",
   "metadata": {},
   "source": [
    "From the plot we can see we have more postively Rated reviews than that of negatively rated reviews."
   ]
  },
  {
   "cell_type": "code",
   "execution_count": 10,
   "metadata": {},
   "outputs": [
    {
     "data": {
      "text/plain": [
       "0.8870648778624238"
      ]
     },
     "execution_count": 10,
     "metadata": {},
     "output_type": "execute_result"
    }
   ],
   "source": [
    "# Most ratings are positive\n",
    "df['Positively Rated'].mean()"
   ]
  },
  {
   "cell_type": "markdown",
   "metadata": {},
   "source": [
    "The data is imbalanced data where we have more than 86% of positively rated reviews."
   ]
  },
  {
   "cell_type": "markdown",
   "metadata": {
    "collapsed": true
   },
   "source": [
    "Let us seperate our dependent and independant variables."
   ]
  },
  {
   "cell_type": "code",
   "execution_count": 11,
   "metadata": {},
   "outputs": [
    {
     "name": "stdout",
     "output_type": "stream",
     "text": [
      "Total number of reviews:  (88998,)\n",
      "Total number of positive reviews:  (88998,)\n"
     ]
    }
   ],
   "source": [
    "X = df.reviewText\n",
    "y = df['Positively Rated']\n",
    "print(\"Total number of reviews: \",X.shape)\n",
    "print(\"Total number of positive reviews: \",y.shape)"
   ]
  },
  {
   "cell_type": "code",
   "execution_count": 12,
   "metadata": {
    "collapsed": true
   },
   "outputs": [],
   "source": [
    "# Split data into training and test sets\n",
    "X_train, X_test, y_train, y_test = train_test_split(X, \n",
    "                                                    y,\n",
    "                                                    test_size = 0.3,\n",
    "                                                    random_state=50)"
   ]
  },
  {
   "cell_type": "code",
   "execution_count": 13,
   "metadata": {},
   "outputs": [
    {
     "data": {
      "text/plain": [
       "(62298,)"
      ]
     },
     "execution_count": 13,
     "metadata": {},
     "output_type": "execute_result"
    }
   ],
   "source": [
    "X_train.shape"
   ]
  },
  {
   "cell_type": "code",
   "execution_count": 14,
   "metadata": {},
   "outputs": [
    {
     "data": {
      "text/plain": [
       "50035    this one is for the granddaughter.  If she can...\n",
       "46895    This is one of the best fictions I have read i...\n",
       "14160    Finally The Lord Of The Rings has been combine...\n",
       "88820    I first read this book after I borrowed it fro...\n",
       "97403    It is an insanely funny, yet touching work.  J...\n",
       "Name: reviewText, dtype: object"
      ]
     },
     "execution_count": 14,
     "metadata": {},
     "output_type": "execute_result"
    }
   ],
   "source": [
    "X_train.head()"
   ]
  },
  {
   "cell_type": "code",
   "execution_count": 15,
   "metadata": {},
   "outputs": [
    {
     "data": {
      "image/png": "[encoded data removed]",
      "text/plain": [
       "<matplotlib.figure.Figure at 0x1a016952e48>"
      ]
     },
     "metadata": {},
     "output_type": "display_data"
    }
   ],
   "source": [
    "from wordcloud import WordCloud\n",
    "text = \" \".join(X_train.ravel())\n",
    "wordcloud = WordCloud(width = 1000, height = 500,background_color='white').generate(text)\n",
    "plt.figure(figsize=(15,8))\n",
    "plt.axis(\"off\")\n",
    "plt.imshow(wordcloud);"
   ]
  },
  {
   "cell_type": "markdown",
   "metadata": {},
   "source": [
    "As seen from the word cloud 'book' is the most frequently used word, as we are doing sentiment analysis of books reviews. Other than books we see 'read','character','novel' and 'story'these words used ."
   ]
  },
  {
   "cell_type": "markdown",
   "metadata": {},
   "source": [
    "### Bag of words(BoW)"
   ]
  },
  {
   "cell_type": "markdown",
   "metadata": {
    "collapsed": true
   },
   "source": [
    "Initially we will approach the text with bag of words approach .We will use count vectorizer which convert a collection of text documents to a matrix of token counts"
   ]
  },
  {
   "cell_type": "markdown",
   "metadata": {},
   "source": [
    "Let us begin with removing stop words from the document."
   ]
  },
  {
   "cell_type": "code",
   "execution_count": 16,
   "metadata": {
    "collapsed": true
   },
   "outputs": [],
   "source": [
    "# Fit the CountVectorizer to the training data\n",
    "vect = CountVectorizer(stop_words = 'english').fit(X_train)"
   ]
  },
  {
   "cell_type": "code",
   "execution_count": 17,
   "metadata": {},
   "outputs": [
    {
     "data": {
      "text/plain": [
       "['00',\n",
       " '8100m',\n",
       " 'agendas',\n",
       " 'anthropologically',\n",
       " 'aufzublasen',\n",
       " 'behaviorist',\n",
       " 'bookchin',\n",
       " 'butual',\n",
       " 'chantry',\n",
       " 'cocoons',\n",
       " 'continuous',\n",
       " 'curses',\n",
       " 'derides',\n",
       " 'distinctions',\n",
       " 'edification',\n",
       " 'erdich',\n",
       " 'faludi',\n",
       " 'foleysince',\n",
       " 'gavan',\n",
       " 'greenville',\n",
       " 'heaters',\n",
       " 'hren',\n",
       " 'indonesians',\n",
       " 'islamophobic',\n",
       " 'khatuna',\n",
       " 'lehman',\n",
       " 'lutnik',\n",
       " 'mccourtis',\n",
       " 'mixer',\n",
       " 'nation',\n",
       " 'obey',\n",
       " 'overpraised',\n",
       " 'peri',\n",
       " 'pond',\n",
       " 'prospective',\n",
       " 'readaloud',\n",
       " 'republicrats',\n",
       " 'ruane',\n",
       " 'seabiscuit',\n",
       " 'sidelined',\n",
       " 'sooth',\n",
       " 'stoical',\n",
       " 'swepted',\n",
       " 'theres',\n",
       " 'transport',\n",
       " 'undisputable',\n",
       " 'verdicts',\n",
       " 'westmacott',\n",
       " 'yaobang']"
      ]
     },
     "execution_count": 17,
     "metadata": {},
     "output_type": "execute_result"
    }
   ],
   "source": [
    "vect.get_feature_names()[::2000]"
   ]
  },
  {
   "cell_type": "code",
   "execution_count": 18,
   "metadata": {},
   "outputs": [
    {
     "data": {
      "text/plain": [
       "96738"
      ]
     },
     "execution_count": 18,
     "metadata": {},
     "output_type": "execute_result"
    }
   ],
   "source": [
    "len(vect.get_feature_names())"
   ]
  },
  {
   "cell_type": "markdown",
   "metadata": {},
   "source": [
    "Let us see the different words and their frequency in the data set"
   ]
  },
  {
   "cell_type": "code",
   "execution_count": 19,
   "metadata": {},
   "outputs": [
    {
     "data": {
      "text/plain": [
       "(62298, 96738)"
      ]
     },
     "execution_count": 19,
     "metadata": {},
     "output_type": "execute_result"
    }
   ],
   "source": [
    "# transform the documents in the training data to a document-term matrix\n",
    "X_train_vectorized = vect.transform(X_train)\n",
    "X_train_vectorized.shape"
   ]
  },
  {
   "cell_type": "markdown",
   "metadata": {
    "collapsed": true
   },
   "source": [
    "Let us fit the vectorized data into models.Here we will use Logistic regression, Random forest classifier,decision tree,Bernoulli naive bayes ,KNN and SVM classifiers.\n",
    "We will do 10 fold cross validation and evaluate the models on their F1 score,area under curve and its accuracy.\n",
    "\n",
    "As seen before the data is imbalanced so only accuracy is not the reliable method of evaluation for the model."
   ]
  },
  {
   "cell_type": "code",
   "execution_count": 20,
   "metadata": {},
   "outputs": [
    {
     "name": "stdout",
     "output_type": "stream",
     "text": [
      "ROC AUC: 0.87 (+/- 0.00) | Accuracy: 0.90 (+/- 0.00) | f1 Score: 0.94 (+/- 0.00) [LR]\n",
      "ROC AUC: 0.64 (+/- 0.03) | Accuracy: 0.89 (+/- 0.00) | f1 Score: 0.94 (+/- 0.00) [RFC]\n",
      "ROC AUC: 0.70 (+/- 0.02) | Accuracy: 0.89 (+/- 0.00) | f1 Score: 0.94 (+/- 0.00) [DST]\n",
      "ROC AUC: 0.82 (+/- 0.01) | Accuracy: 0.85 (+/- 0.00) | f1 Score: 0.92 (+/- 0.00) [BNB]\n",
      "ROC AUC: 0.67 (+/- 0.01) | Accuracy: 0.89 (+/- 0.00) | f1 Score: 0.94 (+/- 0.00) [KNN]\n",
      "ROC AUC: 0.88 (+/- 0.01) | Accuracy: 0.92 (+/- 0.00) | f1 Score: 0.95 (+/- 0.00) [SVM]\n"
     ]
    },
    {
     "data": {
      "text/html": [
       "<div>\n",
       "<style>\n",
       "    .dataframe thead tr:only-child th {\n",
       "        text-align: right;\n",
       "    }\n",
       "\n",
       "    .dataframe thead th {\n",
       "        text-align: left;\n",
       "    }\n",
       "\n",
       "    .dataframe tbody tr th {\n",
       "        vertical-align: top;\n",
       "    }\n",
       "</style>\n",
       "<table border=\"1\" class=\"dataframe\">\n",
       "  <thead>\n",
       "    <tr style=\"text-align: right;\">\n",
       "      <th></th>\n",
       "      <th>Model</th>\n",
       "      <th>Approach</th>\n",
       "      <th>F1 Score mean</th>\n",
       "      <th>AUC</th>\n",
       "      <th>Accuracy</th>\n",
       "    </tr>\n",
       "  </thead>\n",
       "  <tbody>\n",
       "    <tr>\n",
       "      <th>0</th>\n",
       "      <td>LR</td>\n",
       "      <td>BoW Training</td>\n",
       "      <td>0.944630</td>\n",
       "      <td>0.872918</td>\n",
       "      <td>0.896193</td>\n",
       "    </tr>\n",
       "    <tr>\n",
       "      <th>1</th>\n",
       "      <td>RFC</td>\n",
       "      <td>BoW Training</td>\n",
       "      <td>0.940447</td>\n",
       "      <td>0.643184</td>\n",
       "      <td>0.887589</td>\n",
       "    </tr>\n",
       "    <tr>\n",
       "      <th>2</th>\n",
       "      <td>DST</td>\n",
       "      <td>BoW Training</td>\n",
       "      <td>0.943054</td>\n",
       "      <td>0.699132</td>\n",
       "      <td>0.894796</td>\n",
       "    </tr>\n",
       "    <tr>\n",
       "      <th>3</th>\n",
       "      <td>BNB</td>\n",
       "      <td>BoW Training</td>\n",
       "      <td>0.916936</td>\n",
       "      <td>0.820239</td>\n",
       "      <td>0.852323</td>\n",
       "    </tr>\n",
       "    <tr>\n",
       "      <th>4</th>\n",
       "      <td>KNN</td>\n",
       "      <td>BoW Training</td>\n",
       "      <td>0.940547</td>\n",
       "      <td>0.669898</td>\n",
       "      <td>0.887813</td>\n",
       "    </tr>\n",
       "  </tbody>\n",
       "</table>\n",
       "</div>"
      ],
      "text/plain": [
       "  Model      Approach  F1 Score mean       AUC  Accuracy\n",
       "0    LR  BoW Training       0.944630  0.872918  0.896193\n",
       "1   RFC  BoW Training       0.940447  0.643184  0.887589\n",
       "2   DST  BoW Training       0.943054  0.699132  0.894796\n",
       "3   BNB  BoW Training       0.916936  0.820239  0.852323\n",
       "4   KNN  BoW Training       0.940547  0.669898  0.887813"
      ]
     },
     "execution_count": 20,
     "metadata": {},
     "output_type": "execute_result"
    }
   ],
   "source": [
    "#Fit into the model\n",
    "models = []\n",
    "models.append(('LR', LogisticRegression(penalty='l2', C=0.001)))\n",
    "models.append(('RFC', ensemble.RandomForestClassifier(n_estimators=25,max_features=8, max_depth=20)))\n",
    "models.append(('DST', DecisionTreeClassifier(max_depth=10, criterion='entropy')))\n",
    "models.append(('BNB',BernoulliNB()))\n",
    "models.append(('KNN',KNeighborsClassifier(n_neighbors=25)))\n",
    "models.append(('SVM', LinearSVC()))\n",
    "\n",
    "# Results dataframe\n",
    "columns = ['Model', 'Approach', 'F1 Score mean', 'AUC', 'Accuracy']\n",
    "results = pd.DataFrame(columns=columns)\n",
    "\n",
    "# evaluate each model in turn\n",
    "names = []\n",
    "for name, model in models:\n",
    "    #predictions = model.predict(vect.transform(X_test))\n",
    "    a_scores = cross_val_score(estimator = model, X = X_train_vectorized, y = y_train, cv=10, scoring='accuracy')\n",
    "    scores = cross_val_score(estimator = model, X = X_train_vectorized, y = y_train, cv=10, scoring='roc_auc')\n",
    "    f1_scores = cross_val_score(estimator = model, X = X_train_vectorized, y = y_train, cv=10, scoring='f1')\n",
    "    \n",
    "    names.append(name)\n",
    "    row = [name, 'BoW Training', f1_scores.mean(), scores.mean(), a_scores.mean() ]\n",
    "    results.loc[len(results)] = row\n",
    "    print(\"ROC AUC: %0.2f (+/- %0.2f) | Accuracy: %0.2f (+/- %0.2f) | f1 Score: %0.2f (+/- %0.2f) [%s]\" \n",
    "          %(scores.mean(), scores.std(), a_scores.mean(), a_scores.std(), f1_scores.mean(), f1_scores.std(), name))\n",
    "results.head()"
   ]
  },
  {
   "cell_type": "code",
   "execution_count": 21,
   "metadata": {
    "collapsed": true
   },
   "outputs": [],
   "source": [
    "X_test_vectorized = vect.transform(X_test)"
   ]
  },
  {
   "cell_type": "code",
   "execution_count": 22,
   "metadata": {},
   "outputs": [
    {
     "name": "stdout",
     "output_type": "stream",
     "text": [
      "ROC AUC: 0.82 (+/- 0.02) | Accuracy: 0.89 (+/- 0.00) | f1 Score: 0.94 (+/- 0.00) [LR]\n",
      "ROC AUC: 0.60 (+/- 0.03) | Accuracy: 0.89 (+/- 0.00) | f1 Score: 0.94 (+/- 0.00) [RFC]\n",
      "ROC AUC: 0.68 (+/- 0.02) | Accuracy: 0.89 (+/- 0.00) | f1 Score: 0.94 (+/- 0.00) [DST]\n",
      "ROC AUC: 0.72 (+/- 0.02) | Accuracy: 0.86 (+/- 0.01) | f1 Score: 0.93 (+/- 0.00) [BNB]\n",
      "ROC AUC: 0.67 (+/- 0.02) | Accuracy: 0.89 (+/- 0.00) | f1 Score: 0.94 (+/- 0.00) [KNN]\n",
      "ROC AUC: 0.86 (+/- 0.01) | Accuracy: 0.91 (+/- 0.00) | f1 Score: 0.95 (+/- 0.00) [SVM]\n"
     ]
    },
    {
     "data": {
      "text/html": [
       "<div>\n",
       "<style>\n",
       "    .dataframe thead tr:only-child th {\n",
       "        text-align: right;\n",
       "    }\n",
       "\n",
       "    .dataframe thead th {\n",
       "        text-align: left;\n",
       "    }\n",
       "\n",
       "    .dataframe tbody tr th {\n",
       "        vertical-align: top;\n",
       "    }\n",
       "</style>\n",
       "<table border=\"1\" class=\"dataframe\">\n",
       "  <thead>\n",
       "    <tr style=\"text-align: right;\">\n",
       "      <th></th>\n",
       "      <th>Model</th>\n",
       "      <th>Approach</th>\n",
       "      <th>F1 Score mean</th>\n",
       "      <th>AUC</th>\n",
       "      <th>Accuracy</th>\n",
       "    </tr>\n",
       "  </thead>\n",
       "  <tbody>\n",
       "    <tr>\n",
       "      <th>0</th>\n",
       "      <td>LR</td>\n",
       "      <td>BoW Training</td>\n",
       "      <td>0.944630</td>\n",
       "      <td>0.872918</td>\n",
       "      <td>0.896193</td>\n",
       "    </tr>\n",
       "    <tr>\n",
       "      <th>1</th>\n",
       "      <td>RFC</td>\n",
       "      <td>BoW Training</td>\n",
       "      <td>0.940447</td>\n",
       "      <td>0.643184</td>\n",
       "      <td>0.887589</td>\n",
       "    </tr>\n",
       "    <tr>\n",
       "      <th>2</th>\n",
       "      <td>DST</td>\n",
       "      <td>BoW Training</td>\n",
       "      <td>0.943054</td>\n",
       "      <td>0.699132</td>\n",
       "      <td>0.894796</td>\n",
       "    </tr>\n",
       "    <tr>\n",
       "      <th>3</th>\n",
       "      <td>BNB</td>\n",
       "      <td>BoW Training</td>\n",
       "      <td>0.916936</td>\n",
       "      <td>0.820239</td>\n",
       "      <td>0.852323</td>\n",
       "    </tr>\n",
       "    <tr>\n",
       "      <th>4</th>\n",
       "      <td>KNN</td>\n",
       "      <td>BoW Training</td>\n",
       "      <td>0.940547</td>\n",
       "      <td>0.669898</td>\n",
       "      <td>0.887813</td>\n",
       "    </tr>\n",
       "    <tr>\n",
       "      <th>5</th>\n",
       "      <td>SVM</td>\n",
       "      <td>BoW Training</td>\n",
       "      <td>0.952968</td>\n",
       "      <td>0.883666</td>\n",
       "      <td>0.916321</td>\n",
       "    </tr>\n",
       "    <tr>\n",
       "      <th>6</th>\n",
       "      <td>LR</td>\n",
       "      <td>BoW Test</td>\n",
       "      <td>0.941578</td>\n",
       "      <td>0.816990</td>\n",
       "      <td>0.890150</td>\n",
       "    </tr>\n",
       "    <tr>\n",
       "      <th>7</th>\n",
       "      <td>RFC</td>\n",
       "      <td>BoW Test</td>\n",
       "      <td>0.939466</td>\n",
       "      <td>0.603759</td>\n",
       "      <td>0.885843</td>\n",
       "    </tr>\n",
       "    <tr>\n",
       "      <th>8</th>\n",
       "      <td>DST</td>\n",
       "      <td>BoW Test</td>\n",
       "      <td>0.940418</td>\n",
       "      <td>0.680579</td>\n",
       "      <td>0.889812</td>\n",
       "    </tr>\n",
       "    <tr>\n",
       "      <th>9</th>\n",
       "      <td>BNB</td>\n",
       "      <td>BoW Test</td>\n",
       "      <td>0.925883</td>\n",
       "      <td>0.723836</td>\n",
       "      <td>0.864644</td>\n",
       "    </tr>\n",
       "    <tr>\n",
       "      <th>10</th>\n",
       "      <td>KNN</td>\n",
       "      <td>BoW Test</td>\n",
       "      <td>0.939846</td>\n",
       "      <td>0.667100</td>\n",
       "      <td>0.886629</td>\n",
       "    </tr>\n",
       "    <tr>\n",
       "      <th>11</th>\n",
       "      <td>SVM</td>\n",
       "      <td>BoW Test</td>\n",
       "      <td>0.948626</td>\n",
       "      <td>0.864491</td>\n",
       "      <td>0.908727</td>\n",
       "    </tr>\n",
       "  </tbody>\n",
       "</table>\n",
       "</div>"
      ],
      "text/plain": [
       "   Model      Approach  F1 Score mean       AUC  Accuracy\n",
       "0     LR  BoW Training       0.944630  0.872918  0.896193\n",
       "1    RFC  BoW Training       0.940447  0.643184  0.887589\n",
       "2    DST  BoW Training       0.943054  0.699132  0.894796\n",
       "3    BNB  BoW Training       0.916936  0.820239  0.852323\n",
       "4    KNN  BoW Training       0.940547  0.669898  0.887813\n",
       "5    SVM  BoW Training       0.952968  0.883666  0.916321\n",
       "6     LR      BoW Test       0.941578  0.816990  0.890150\n",
       "7    RFC      BoW Test       0.939466  0.603759  0.885843\n",
       "8    DST      BoW Test       0.940418  0.680579  0.889812\n",
       "9    BNB      BoW Test       0.925883  0.723836  0.864644\n",
       "10   KNN      BoW Test       0.939846  0.667100  0.886629\n",
       "11   SVM      BoW Test       0.948626  0.864491  0.908727"
      ]
     },
     "execution_count": 22,
     "metadata": {},
     "output_type": "execute_result"
    }
   ],
   "source": [
    "#Fit into the model\n",
    "models = []\n",
    "models.append(('LR', LogisticRegression(penalty='l2', C=0.001)))\n",
    "models.append(('RFC', ensemble.RandomForestClassifier(n_estimators=25,max_features=8, max_depth=20)))\n",
    "models.append(('DST', DecisionTreeClassifier(max_depth=10, criterion='entropy')))\n",
    "models.append(('BNB',BernoulliNB()))\n",
    "models.append(('KNN',KNeighborsClassifier(n_neighbors=25)))\n",
    "models.append(('SVM', LinearSVC()))\n",
    "# evaluate each model in turn\n",
    "\n",
    "names = []\n",
    "for name, model in models:\n",
    "    #predictions = model.predict(vect.transform(X_test))\n",
    "    a_scores = cross_val_score(estimator = model, X = X_test_vectorized, y = y_test, cv=10, scoring='accuracy')\n",
    "    scores = cross_val_score(estimator = model, X = X_test_vectorized, y = y_test, cv=10, scoring='roc_auc')\n",
    "    f1_scores = cross_val_score(estimator = model, X = X_test_vectorized, y = y_test, cv=10, scoring='f1')\n",
    "    \n",
    "    names.append(name)\n",
    "    \n",
    "    row = [name, 'BoW Test', f1_scores.mean(), scores.mean(), a_scores.mean() ]\n",
    "    results.loc[len(results)] = row\n",
    "    \n",
    "    print(\"ROC AUC: %0.2f (+/- %0.2f) | Accuracy: %0.2f (+/- %0.2f) | f1 Score: %0.2f (+/- %0.2f) [%s]\" %(scores.mean(), scores.std(), a_scores.mean(), a_scores.std(), f1_scores.mean(), f1_scores.std(), name))\n",
    "    \n",
    "results    "
   ]
  },
  {
   "cell_type": "markdown",
   "metadata": {},
   "source": [
    "### Tunning parameters"
   ]
  },
  {
   "cell_type": "markdown",
   "metadata": {},
   "source": [
    "SVM is performing best on train as well as test data set. Let us do some parameter tunning. In parameter tunning I will be using different values of C to get maximum area under score and f1 score."
   ]
  },
  {
   "cell_type": "code",
   "execution_count": 23,
   "metadata": {},
   "outputs": [
    {
     "name": "stdout",
     "output_type": "stream",
     "text": [
      "AUC for Single Linear SVC\n",
      " 0.912584065627\n",
      "cr:              precision    recall  f1-score   support\n",
      "\n",
      "          0       0.73      0.61      0.66      3048\n",
      "          1       0.95      0.97      0.96     23652\n",
      "\n",
      "avg / total       0.92      0.93      0.93     26700\n",
      "\n",
      "[1 1 1 ..., 0 1 1]\n"
     ]
    }
   ],
   "source": [
    "X_test_vectorized = vect.transform(X_test)\n",
    "model = LinearSVC(C = 0.1)\n",
    "model.fit(X_train_vectorized,y_train)\n",
    "y = model.predict(X_test_vectorized)\n",
    "y_score = model.decision_function(X_test_vectorized)\n",
    "\n",
    "fpr, tpr, thresholds = metrics.roc_curve(y_test, y_score, pos_label=1)\n",
    "\n",
    "print('AUC for Single Linear SVC\\n', auc(fpr,tpr))\n",
    "print('cr:', classification_report(y_test,y))\n",
    "print(y)"
   ]
  },
  {
   "cell_type": "code",
   "execution_count": 24,
   "metadata": {},
   "outputs": [
    {
     "name": "stdout",
     "output_type": "stream",
     "text": [
      "AUC for Single Linear SVC\n",
      " 0.894772914056\n",
      "cr:              precision    recall  f1-score   support\n",
      "\n",
      "          0       0.67      0.62      0.64      3048\n",
      "          1       0.95      0.96      0.96     23652\n",
      "\n",
      "avg / total       0.92      0.92      0.92     26700\n",
      "\n"
     ]
    }
   ],
   "source": [
    "X_test_vectorized = vect.transform(X_test)\n",
    "model = LinearSVC(C = 0.5)\n",
    "model.fit(X_train_vectorized,y_train)\n",
    "y = model.predict(X_test_vectorized)\n",
    "y_score = model.decision_function(X_test_vectorized)\n",
    "\n",
    "fpr, tpr, thresholds = metrics.roc_curve(y_test, y_score, pos_label=1)\n",
    "\n",
    "print('AUC for Single Linear SVC\\n', auc(fpr,tpr))\n",
    "print('cr:', classification_report(y_test,y))"
   ]
  },
  {
   "cell_type": "code",
   "execution_count": 25,
   "metadata": {},
   "outputs": [
    {
     "name": "stdout",
     "output_type": "stream",
     "text": [
      "[0.86449079002890239, 0.85716177726054121, 0.85319790536167339, 0.85077252058609554, 0.84908484320685162, 0.84782748525427665, 0.8468636270113159, 0.84605462334876336, 0.84533798465869714, 0.84475697196706656, 0.84428831864968257, 0.84390400513867014, 0.84358428611832326, 0.84328682385811893, 0.84299626987892007, 0.84278738474061876, 0.8424842981032945, 0.84230231378970777, 0.84213590847429054]\n"
     ]
    }
   ],
   "source": [
    "C_range=list(range(1,20))\n",
    "auc_score=[]\n",
    "for c in C_range:\n",
    "    model = LinearSVC(C = c)\n",
    "    scores = cross_val_score(model, X = X_test_vectorized, y = y_test, cv=10, scoring='roc_auc')\n",
    "    auc_score.append(scores.mean())\n",
    "print(auc_score)"
   ]
  },
  {
   "cell_type": "code",
   "execution_count": 26,
   "metadata": {},
   "outputs": [
    {
     "data": {
      "image/png": "[encoded data removed]",
      "text/plain": [
       "<matplotlib.figure.Figure at 0x1a01a2184e0>"
      ]
     },
     "metadata": {},
     "output_type": "display_data"
    }
   ],
   "source": [
    "C =list(range(1,20))\n",
    "plt.plot(C,auc_score)\n",
    "plt.xticks(np.arange(0,20,1))\n",
    "plt.yticks(np.arange(0.7,1,0.05))\n",
    "plt.xlabel('Value of C for SVC')\n",
    "plt.ylabel('Cross-Validated AUC');"
   ]
  },
  {
   "cell_type": "code",
   "execution_count": 27,
   "metadata": {},
   "outputs": [
    {
     "name": "stdout",
     "output_type": "stream",
     "text": [
      "[0.94862572810897983, 0.9462504997100647, 0.94484479350745754, 0.94378924389275798, 0.94308343453408594, 0.94246501828305251, 0.94160043360907564, 0.94140353051393633, 0.94125675420189625, 0.94093666483609639, 0.94072423661630966, 0.94057196046742997, 0.94033548558422331, 0.9402506244715001, 0.9400053214341334, 0.94006750312573395, 0.93994269782420314, 0.93958990960632538, 0.93932802956121964]\n"
     ]
    }
   ],
   "source": [
    "C_range=list(range(1,20))\n",
    "f1score=[]\n",
    "for c in C_range:\n",
    "    model = LinearSVC(C = c)\n",
    "    f1_scores = cross_val_score(estimator = model, X = X_test_vectorized, y = y_test, cv=10, scoring='f1')\n",
    "    f1score.append(f1_scores.mean())\n",
    "print(f1score)"
   ]
  },
  {
   "cell_type": "code",
   "execution_count": 28,
   "metadata": {},
   "outputs": [
    {
     "data": {
      "image/png": "[encoded data removed]",
      "text/plain": [
       "<matplotlib.figure.Figure at 0x1a01a313588>"
      ]
     },
     "metadata": {},
     "output_type": "display_data"
    }
   ],
   "source": [
    "C =list(range(1,20))\n",
    "plt.plot(C,f1score)\n",
    "plt.xticks(np.arange(0,20,1))\n",
    "plt.yticks(np.arange(0.85,1,0.01))\n",
    "plt.xlabel('Value of C for SVC')\n",
    "plt.ylabel('Cross-Validated F1 Score');"
   ]
  },
  {
   "cell_type": "markdown",
   "metadata": {},
   "source": [
    "### Tfidf"
   ]
  },
  {
   "cell_type": "markdown",
   "metadata": {},
   "source": [
    "Let us go by term frequency and document frequency to analyze the sentiments in the data."
   ]
  },
  {
   "cell_type": "code",
   "execution_count": 29,
   "metadata": {},
   "outputs": [
    {
     "data": {
      "text/plain": [
       "22288"
      ]
     },
     "execution_count": 29,
     "metadata": {},
     "output_type": "execute_result"
    }
   ],
   "source": [
    "from sklearn.feature_extraction.text import TfidfVectorizer\n",
    "\n",
    "# Fit the TfidfVectorizer to the training data specifiying a minimum document frequency of 5\n",
    "vect_t = TfidfVectorizer(min_df=10).fit(X_train)\n",
    "len(vect_t.get_feature_names())\n"
   ]
  },
  {
   "cell_type": "code",
   "execution_count": 30,
   "metadata": {},
   "outputs": [
    {
     "data": {
      "text/plain": [
       "(62298, 22288)"
      ]
     },
     "execution_count": 30,
     "metadata": {},
     "output_type": "execute_result"
    }
   ],
   "source": [
    "X_train_vectorized_t = vect_t.transform(X_train)\n",
    "X_train_vectorized_t.shape"
   ]
  },
  {
   "cell_type": "code",
   "execution_count": 31,
   "metadata": {},
   "outputs": [
    {
     "name": "stdout",
     "output_type": "stream",
     "text": [
      "ROC AUC: 0.69 (+/- 0.01) | Accuracy: 0.89 (+/- 0.00) | f1 Score: 0.94 (+/- 0.00) [LR]\n",
      "ROC AUC: 0.74 (+/- 0.01) | Accuracy: 0.89 (+/- 0.00) | f1 Score: 0.94 (+/- 0.00) [RFC]\n",
      "ROC AUC: 0.72 (+/- 0.01) | Accuracy: 0.89 (+/- 0.00) | f1 Score: 0.94 (+/- 0.00) [DST]\n",
      "ROC AUC: 0.80 (+/- 0.01) | Accuracy: 0.81 (+/- 0.01) | f1 Score: 0.89 (+/- 0.00) [BNB]\n",
      "ROC AUC: 0.81 (+/- 0.01) | Accuracy: 0.89 (+/- 0.00) | f1 Score: 0.94 (+/- 0.00) [KNN]\n",
      "ROC AUC: 0.95 (+/- 0.00) | Accuracy: 0.94 (+/- 0.00) | f1 Score: 0.97 (+/- 0.00) [SVM]\n"
     ]
    },
    {
     "data": {
      "text/plain": [
       "(18, 5)"
      ]
     },
     "execution_count": 31,
     "metadata": {},
     "output_type": "execute_result"
    }
   ],
   "source": [
    "#Fit into the model\n",
    "models = []\n",
    "models.append(('LR', LogisticRegression(penalty='l2', C=0.001)))\n",
    "models.append(('RFC', ensemble.RandomForestClassifier(n_estimators=25,max_features=8, max_depth=20)))\n",
    "models.append(('DST', DecisionTreeClassifier(max_depth=10, criterion='entropy')))\n",
    "models.append(('BNB',BernoulliNB()))\n",
    "models.append(('KNN',KNeighborsClassifier(n_neighbors=25)))\n",
    "models.append(('SVM', LinearSVC()))\n",
    "\n",
    "# Results dataframe\n",
    "#columns = ['Model', 'Approach', 'F1 Score mean', 'F1 Score std', 'AUC', 'Accuracy']\n",
    "#results = pd.DataFrame(columns=columns)\n",
    "\n",
    "# evaluate each model in turn\n",
    "names = []\n",
    "for name, model in models:\n",
    "    #predictions = model.predict(vect.transform(X_test))\n",
    "    a_scores = cross_val_score(estimator = model, X = X_train_vectorized_t, y = y_train, cv=10, scoring='accuracy')\n",
    "    scores = cross_val_score(estimator = model, X = X_train_vectorized_t, y = y_train, cv=10, scoring='roc_auc')\n",
    "    f1_scores = cross_val_score(estimator = model, X = X_train_vectorized_t, y = y_train, cv=10, scoring='f1')\n",
    "    \n",
    "    names.append(name)\n",
    "    row = [name, 'Tfidf Training', f1_scores.mean(), scores.mean(), a_scores.mean() ]\n",
    "    results.loc[len(results)] = row\n",
    "    print(\"ROC AUC: %0.2f (+/- %0.2f) | Accuracy: %0.2f (+/- %0.2f) | f1 Score: %0.2f (+/- %0.2f) [%s]\" \n",
    "          %(scores.mean(), scores.std(), a_scores.mean(), a_scores.std(), f1_scores.mean(), f1_scores.std(), name))\n",
    "results.shape"
   ]
  },
  {
   "cell_type": "code",
   "execution_count": 32,
   "metadata": {
    "collapsed": true
   },
   "outputs": [],
   "source": [
    "X_test_vectorized_t = vect_t.transform(X_test)"
   ]
  },
  {
   "cell_type": "code",
   "execution_count": 33,
   "metadata": {},
   "outputs": [
    {
     "name": "stdout",
     "output_type": "stream",
     "text": [
      "ROC AUC: 0.55 (+/- 0.02) | Accuracy: 0.89 (+/- 0.00) | f1 Score: 0.94 (+/- 0.00) [LR]\n",
      "ROC AUC: 0.73 (+/- 0.02) | Accuracy: 0.89 (+/- 0.00) | f1 Score: 0.94 (+/- 0.00) [RFC]\n",
      "ROC AUC: 0.69 (+/- 0.02) | Accuracy: 0.89 (+/- 0.00) | f1 Score: 0.94 (+/- 0.00) [DST]\n",
      "ROC AUC: 0.77 (+/- 0.02) | Accuracy: 0.80 (+/- 0.01) | f1 Score: 0.88 (+/- 0.01) [BNB]\n",
      "ROC AUC: 0.82 (+/- 0.01) | Accuracy: 0.89 (+/- 0.00) | f1 Score: 0.94 (+/- 0.00) [KNN]\n",
      "ROC AUC: 0.94 (+/- 0.01) | Accuracy: 0.93 (+/- 0.00) | f1 Score: 0.96 (+/- 0.00) [SVM]\n"
     ]
    },
    {
     "data": {
      "text/plain": [
       "(24, 5)"
      ]
     },
     "execution_count": 33,
     "metadata": {},
     "output_type": "execute_result"
    }
   ],
   "source": [
    "#Fit into the model\n",
    "models = []\n",
    "models.append(('LR', LogisticRegression(penalty='l2', C=0.001)))\n",
    "models.append(('RFC', ensemble.RandomForestClassifier(n_estimators=25,max_features=8, max_depth=20)))\n",
    "models.append(('DST', DecisionTreeClassifier(max_depth=10, criterion='entropy')))\n",
    "models.append(('BNB',BernoulliNB()))\n",
    "models.append(('KNN',KNeighborsClassifier(n_neighbors=25)))\n",
    "models.append(('SVM', LinearSVC()))\n",
    "# evaluate each model in turn\n",
    "\n",
    "names = []\n",
    "for name, model in models:\n",
    "    #predictions = model.predict(vect.transform(X_test))\n",
    "    a_scores = cross_val_score(estimator = model, X = X_test_vectorized_t, y = y_test, cv=10, scoring='accuracy')\n",
    "    scores = cross_val_score(estimator = model, X = X_test_vectorized_t, y = y_test, cv=10, scoring='roc_auc')\n",
    "    f1_scores = cross_val_score(estimator = model, X = X_test_vectorized_t, y = y_test, cv=10, scoring='f1')\n",
    "    \n",
    "    names.append(name)\n",
    "    \n",
    "    row = [name, 'Tfidf Test', f1_scores.mean(), scores.mean(), a_scores.mean() ]\n",
    "    results.loc[len(results)] = row\n",
    "    \n",
    "    print(\"ROC AUC: %0.2f (+/- %0.2f) | Accuracy: %0.2f (+/- %0.2f) | f1 Score: %0.2f (+/- %0.2f) [%s]\" %(scores.mean(), scores.std(), a_scores.mean(), a_scores.std(), f1_scores.mean(), f1_scores.std(), name))\n",
    "    \n",
    "results.shape    "
   ]
  },
  {
   "cell_type": "markdown",
   "metadata": {},
   "source": [
    "In this case we see SVM is giving us better score than that of other models."
   ]
  },
  {
   "cell_type": "markdown",
   "metadata": {},
   "source": [
    "### Tunning the vectorizer"
   ]
  },
  {
   "cell_type": "code",
   "execution_count": 34,
   "metadata": {},
   "outputs": [
    {
     "data": {
      "text/plain": [
       "118254"
      ]
     },
     "execution_count": 34,
     "metadata": {},
     "output_type": "execute_result"
    }
   ],
   "source": [
    "# Fit the CountVectorizer to the training data specifiying a minimum \n",
    "# document frequency of 5 and extracting 1-grams and 2-grams\n",
    "vect = CountVectorizer(min_df=10, ngram_range=(1,2)).fit(X_train)\n",
    "\n",
    "X_train_vectorized_1 = vect.transform(X_train)\n",
    "\n",
    "len(vect.get_feature_names())"
   ]
  },
  {
   "cell_type": "code",
   "execution_count": 35,
   "metadata": {},
   "outputs": [
    {
     "data": {
      "text/plain": [
       "(62298, 118254)"
      ]
     },
     "execution_count": 35,
     "metadata": {},
     "output_type": "execute_result"
    }
   ],
   "source": [
    "X_train_vectorized_1.shape"
   ]
  },
  {
   "cell_type": "markdown",
   "metadata": {},
   "source": [
    "Let us train the model on training data"
   ]
  },
  {
   "cell_type": "code",
   "execution_count": 36,
   "metadata": {},
   "outputs": [
    {
     "name": "stdout",
     "output_type": "stream",
     "text": [
      "ROC AUC: 0.91 (+/- 0.00) | Accuracy: 0.91 (+/- 0.00) | f1 Score: 0.95 (+/- 0.00) [LR]\n",
      "ROC AUC: 0.69 (+/- 0.01) | Accuracy: 0.89 (+/- 0.00) | f1 Score: 0.94 (+/- 0.00) [RFC]\n",
      "ROC AUC: 0.73 (+/- 0.01) | Accuracy: 0.90 (+/- 0.00) | f1 Score: 0.94 (+/- 0.00) [DST]\n",
      "ROC AUC: 0.80 (+/- 0.01) | Accuracy: 0.83 (+/- 0.01) | f1 Score: 0.90 (+/- 0.00) [BNB]\n",
      "ROC AUC: 0.69 (+/- 0.01) | Accuracy: 0.89 (+/- 0.00) | f1 Score: 0.94 (+/- 0.00) [KNN]\n",
      "ROC AUC: 0.94 (+/- 0.01) | Accuracy: 0.94 (+/- 0.00) | f1 Score: 0.97 (+/- 0.00) [SVM]\n"
     ]
    },
    {
     "data": {
      "text/plain": [
       "(30, 5)"
      ]
     },
     "execution_count": 36,
     "metadata": {},
     "output_type": "execute_result"
    }
   ],
   "source": [
    "#Fit into the model\n",
    "models = []\n",
    "models.append(('LR', LogisticRegression(penalty='l2', C=0.001)))\n",
    "models.append(('RFC', ensemble.RandomForestClassifier(n_estimators=25,max_features=8, max_depth=20)))\n",
    "models.append(('DST', DecisionTreeClassifier(max_depth=10, criterion='entropy')))\n",
    "models.append(('BNB',BernoulliNB()))\n",
    "models.append(('KNN',KNeighborsClassifier(n_neighbors=25)))\n",
    "models.append(('SVM', LinearSVC()))\n",
    "\n",
    "# Results dataframe\n",
    "#columns = ['Model', 'Approach', 'F1 Score mean', 'F1 Score std', 'AUC', 'Accuracy']\n",
    "#results = pd.DataFrame(columns=columns)\n",
    "\n",
    "# evaluate each model in turn\n",
    "names = []\n",
    "for name, model in models:\n",
    "    #predictions = model.predict(vect.transform(X_test))\n",
    "    a_scores = cross_val_score(estimator = model, X = X_train_vectorized_1, y = y_train, cv=10, scoring='accuracy')\n",
    "    scores = cross_val_score(estimator = model, X = X_train_vectorized_1, y = y_train, cv=10, scoring='roc_auc')\n",
    "    f1_scores = cross_val_score(estimator = model, X = X_train_vectorized_1, y = y_train, cv=10, scoring='f1')\n",
    "    \n",
    "    names.append(name)\n",
    "    row = [name, 'Tunning Training', f1_scores.mean(), scores.mean(), a_scores.mean() ]\n",
    "    results.loc[len(results)] = row\n",
    "    print(\"ROC AUC: %0.2f (+/- %0.2f) | Accuracy: %0.2f (+/- %0.2f) | f1 Score: %0.2f (+/- %0.2f) [%s]\" \n",
    "          %(scores.mean(), scores.std(), a_scores.mean(), a_scores.std(), f1_scores.mean(), f1_scores.std(), name))\n",
    "results.shape"
   ]
  },
  {
   "cell_type": "markdown",
   "metadata": {},
   "source": [
    "Testing the tuned mode on test data"
   ]
  },
  {
   "cell_type": "code",
   "execution_count": 37,
   "metadata": {},
   "outputs": [
    {
     "data": {
      "text/plain": [
       "58698"
      ]
     },
     "execution_count": 37,
     "metadata": {},
     "output_type": "execute_result"
    }
   ],
   "source": [
    "vect = CountVectorizer(min_df=10, ngram_range=(1,2)).fit(X_test)\n",
    "\n",
    "X_test_vectorized_1 = vect.transform(X_test)\n",
    "\n",
    "len(vect.get_feature_names())"
   ]
  },
  {
   "cell_type": "code",
   "execution_count": 38,
   "metadata": {},
   "outputs": [
    {
     "name": "stdout",
     "output_type": "stream",
     "text": [
      "ROC AUC: 0.86 (+/- 0.01) | Accuracy: 0.90 (+/- 0.00) | f1 Score: 0.95 (+/- 0.00) [LR]\n",
      "ROC AUC: 0.71 (+/- 0.02) | Accuracy: 0.89 (+/- 0.00) | f1 Score: 0.94 (+/- 0.00) [RFC]\n",
      "ROC AUC: 0.69 (+/- 0.02) | Accuracy: 0.89 (+/- 0.00) | f1 Score: 0.94 (+/- 0.00) [DST]\n",
      "ROC AUC: 0.76 (+/- 0.02) | Accuracy: 0.81 (+/- 0.01) | f1 Score: 0.89 (+/- 0.01) [BNB]\n",
      "ROC AUC: 0.68 (+/- 0.02) | Accuracy: 0.89 (+/- 0.00) | f1 Score: 0.94 (+/- 0.00) [KNN]\n",
      "ROC AUC: 0.92 (+/- 0.01) | Accuracy: 0.93 (+/- 0.00) | f1 Score: 0.96 (+/- 0.00) [SVM]\n"
     ]
    },
    {
     "data": {
      "text/plain": [
       "(36, 5)"
      ]
     },
     "execution_count": 38,
     "metadata": {},
     "output_type": "execute_result"
    }
   ],
   "source": [
    "#Fit into the model\n",
    "models = []\n",
    "models.append(('LR', LogisticRegression(penalty='l2', C=0.001)))\n",
    "models.append(('RFC', ensemble.RandomForestClassifier(n_estimators=25,max_features=8, max_depth=20)))\n",
    "models.append(('DST', DecisionTreeClassifier(max_depth=10, criterion='entropy')))\n",
    "models.append(('BNB',BernoulliNB()))\n",
    "models.append(('KNN',KNeighborsClassifier(n_neighbors=25)))\n",
    "models.append(('SVM', LinearSVC()))\n",
    "# evaluate each model in turn\n",
    "\n",
    "names = []\n",
    "for name, model in models:\n",
    "    #predictions = model.predict(vect.transform(X_test))\n",
    "    a_scores = cross_val_score(estimator = model, X = X_test_vectorized_1, y = y_test, cv=10, scoring='accuracy')\n",
    "    scores = cross_val_score(estimator = model, X = X_test_vectorized_1, y = y_test, cv=10, scoring='roc_auc')\n",
    "    f1_scores = cross_val_score(estimator = model, X = X_test_vectorized_1, y = y_test, cv=10, scoring='f1')\n",
    "    \n",
    "    names.append(name)\n",
    "    \n",
    "    row = [name, 'Tunning Test', f1_scores.mean(), scores.mean(), a_scores.mean() ]\n",
    "    results.loc[len(results)] = row\n",
    "    \n",
    "    print(\"ROC AUC: %0.2f (+/- %0.2f) | Accuracy: %0.2f (+/- %0.2f) | f1 Score: %0.2f (+/- %0.2f) [%s]\" %(scores.mean(), scores.std(), a_scores.mean(), a_scores.std(), f1_scores.mean(), f1_scores.std(), name))\n",
    "    \n",
    "results.shape"
   ]
  },
  {
   "cell_type": "markdown",
   "metadata": {
    "collapsed": true
   },
   "source": [
    "Tunning the vectorizer further more...\n",
    "In the data analysis we see the word book occuring maximum.The word seems to be neutral in the context of sentiment analysis.Let us try to reduce the noise in our model by removing the word book "
   ]
  },
  {
   "cell_type": "code",
   "execution_count": 39,
   "metadata": {
    "collapsed": true
   },
   "outputs": [],
   "source": [
    "# Fit the CountVectorizer to the training data\n",
    "from sklearn.feature_extraction import text \n",
    "\n",
    "my_stop_words = ['book']\n",
    "stop_words = text.ENGLISH_STOP_WORDS.union(my_stop_words)\n",
    "vect2 = CountVectorizer(stop_words = stop_words).fit(X_train)"
   ]
  },
  {
   "cell_type": "code",
   "execution_count": 40,
   "metadata": {},
   "outputs": [
    {
     "data": {
      "text/plain": [
       "frozenset({'a',\n",
       "           'about',\n",
       "           'above',\n",
       "           'across',\n",
       "           'after',\n",
       "           'afterwards',\n",
       "           'again',\n",
       "           'against',\n",
       "           'all',\n",
       "           'almost',\n",
       "           'alone',\n",
       "           'along',\n",
       "           'already',\n",
       "           'also',\n",
       "           'although',\n",
       "           'always',\n",
       "           'am',\n",
       "           'among',\n",
       "           'amongst',\n",
       "           'amoungst',\n",
       "           'amount',\n",
       "           'an',\n",
       "           'and',\n",
       "           'another',\n",
       "           'any',\n",
       "           'anyhow',\n",
       "           'anyone',\n",
       "           'anything',\n",
       "           'anyway',\n",
       "           'anywhere',\n",
       "           'are',\n",
       "           'around',\n",
       "           'as',\n",
       "           'at',\n",
       "           'back',\n",
       "           'be',\n",
       "           'became',\n",
       "           'because',\n",
       "           'become',\n",
       "           'becomes',\n",
       "           'becoming',\n",
       "           'been',\n",
       "           'before',\n",
       "           'beforehand',\n",
       "           'behind',\n",
       "           'being',\n",
       "           'below',\n",
       "           'beside',\n",
       "           'besides',\n",
       "           'between',\n",
       "           'beyond',\n",
       "           'bill',\n",
       "           'book',\n",
       "           'both',\n",
       "           'bottom',\n",
       "           'but',\n",
       "           'by',\n",
       "           'call',\n",
       "           'can',\n",
       "           'cannot',\n",
       "           'cant',\n",
       "           'co',\n",
       "           'con',\n",
       "           'could',\n",
       "           'couldnt',\n",
       "           'cry',\n",
       "           'de',\n",
       "           'describe',\n",
       "           'detail',\n",
       "           'do',\n",
       "           'done',\n",
       "           'down',\n",
       "           'due',\n",
       "           'during',\n",
       "           'each',\n",
       "           'eg',\n",
       "           'eight',\n",
       "           'either',\n",
       "           'eleven',\n",
       "           'else',\n",
       "           'elsewhere',\n",
       "           'empty',\n",
       "           'enough',\n",
       "           'etc',\n",
       "           'even',\n",
       "           'ever',\n",
       "           'every',\n",
       "           'everyone',\n",
       "           'everything',\n",
       "           'everywhere',\n",
       "           'except',\n",
       "           'few',\n",
       "           'fifteen',\n",
       "           'fifty',\n",
       "           'fill',\n",
       "           'find',\n",
       "           'fire',\n",
       "           'first',\n",
       "           'five',\n",
       "           'for',\n",
       "           'former',\n",
       "           'formerly',\n",
       "           'forty',\n",
       "           'found',\n",
       "           'four',\n",
       "           'from',\n",
       "           'front',\n",
       "           'full',\n",
       "           'further',\n",
       "           'get',\n",
       "           'give',\n",
       "           'go',\n",
       "           'had',\n",
       "           'has',\n",
       "           'hasnt',\n",
       "           'have',\n",
       "           'he',\n",
       "           'hence',\n",
       "           'her',\n",
       "           'here',\n",
       "           'hereafter',\n",
       "           'hereby',\n",
       "           'herein',\n",
       "           'hereupon',\n",
       "           'hers',\n",
       "           'herself',\n",
       "           'him',\n",
       "           'himself',\n",
       "           'his',\n",
       "           'how',\n",
       "           'however',\n",
       "           'hundred',\n",
       "           'i',\n",
       "           'ie',\n",
       "           'if',\n",
       "           'in',\n",
       "           'inc',\n",
       "           'indeed',\n",
       "           'interest',\n",
       "           'into',\n",
       "           'is',\n",
       "           'it',\n",
       "           'its',\n",
       "           'itself',\n",
       "           'keep',\n",
       "           'last',\n",
       "           'latter',\n",
       "           'latterly',\n",
       "           'least',\n",
       "           'less',\n",
       "           'ltd',\n",
       "           'made',\n",
       "           'many',\n",
       "           'may',\n",
       "           'me',\n",
       "           'meanwhile',\n",
       "           'might',\n",
       "           'mill',\n",
       "           'mine',\n",
       "           'more',\n",
       "           'moreover',\n",
       "           'most',\n",
       "           'mostly',\n",
       "           'move',\n",
       "           'much',\n",
       "           'must',\n",
       "           'my',\n",
       "           'myself',\n",
       "           'name',\n",
       "           'namely',\n",
       "           'neither',\n",
       "           'never',\n",
       "           'nevertheless',\n",
       "           'next',\n",
       "           'nine',\n",
       "           'no',\n",
       "           'nobody',\n",
       "           'none',\n",
       "           'noone',\n",
       "           'nor',\n",
       "           'not',\n",
       "           'nothing',\n",
       "           'now',\n",
       "           'nowhere',\n",
       "           'of',\n",
       "           'off',\n",
       "           'often',\n",
       "           'on',\n",
       "           'once',\n",
       "           'one',\n",
       "           'only',\n",
       "           'onto',\n",
       "           'or',\n",
       "           'other',\n",
       "           'others',\n",
       "           'otherwise',\n",
       "           'our',\n",
       "           'ours',\n",
       "           'ourselves',\n",
       "           'out',\n",
       "           'over',\n",
       "           'own',\n",
       "           'part',\n",
       "           'per',\n",
       "           'perhaps',\n",
       "           'please',\n",
       "           'put',\n",
       "           'rather',\n",
       "           're',\n",
       "           'same',\n",
       "           'see',\n",
       "           'seem',\n",
       "           'seemed',\n",
       "           'seeming',\n",
       "           'seems',\n",
       "           'serious',\n",
       "           'several',\n",
       "           'she',\n",
       "           'should',\n",
       "           'show',\n",
       "           'side',\n",
       "           'since',\n",
       "           'sincere',\n",
       "           'six',\n",
       "           'sixty',\n",
       "           'so',\n",
       "           'some',\n",
       "           'somehow',\n",
       "           'someone',\n",
       "           'something',\n",
       "           'sometime',\n",
       "           'sometimes',\n",
       "           'somewhere',\n",
       "           'still',\n",
       "           'such',\n",
       "           'system',\n",
       "           'take',\n",
       "           'ten',\n",
       "           'than',\n",
       "           'that',\n",
       "           'the',\n",
       "           'their',\n",
       "           'them',\n",
       "           'themselves',\n",
       "           'then',\n",
       "           'thence',\n",
       "           'there',\n",
       "           'thereafter',\n",
       "           'thereby',\n",
       "           'therefore',\n",
       "           'therein',\n",
       "           'thereupon',\n",
       "           'these',\n",
       "           'they',\n",
       "           'thick',\n",
       "           'thin',\n",
       "           'third',\n",
       "           'this',\n",
       "           'those',\n",
       "           'though',\n",
       "           'three',\n",
       "           'through',\n",
       "           'throughout',\n",
       "           'thru',\n",
       "           'thus',\n",
       "           'to',\n",
       "           'together',\n",
       "           'too',\n",
       "           'top',\n",
       "           'toward',\n",
       "           'towards',\n",
       "           'twelve',\n",
       "           'twenty',\n",
       "           'two',\n",
       "           'un',\n",
       "           'under',\n",
       "           'until',\n",
       "           'up',\n",
       "           'upon',\n",
       "           'us',\n",
       "           'very',\n",
       "           'via',\n",
       "           'was',\n",
       "           'we',\n",
       "           'well',\n",
       "           'were',\n",
       "           'what',\n",
       "           'whatever',\n",
       "           'when',\n",
       "           'whence',\n",
       "           'whenever',\n",
       "           'where',\n",
       "           'whereafter',\n",
       "           'whereas',\n",
       "           'whereby',\n",
       "           'wherein',\n",
       "           'whereupon',\n",
       "           'wherever',\n",
       "           'whether',\n",
       "           'which',\n",
       "           'while',\n",
       "           'whither',\n",
       "           'who',\n",
       "           'whoever',\n",
       "           'whole',\n",
       "           'whom',\n",
       "           'whose',\n",
       "           'why',\n",
       "           'will',\n",
       "           'with',\n",
       "           'within',\n",
       "           'without',\n",
       "           'would',\n",
       "           'yet',\n",
       "           'you',\n",
       "           'your',\n",
       "           'yours',\n",
       "           'yourself',\n",
       "           'yourselves'})"
      ]
     },
     "execution_count": 40,
     "metadata": {},
     "output_type": "execute_result"
    }
   ],
   "source": [
    "vect2.get_stop_words()"
   ]
  },
  {
   "cell_type": "code",
   "execution_count": 41,
   "metadata": {},
   "outputs": [
    {
     "data": {
      "text/plain": [
       "(62298, 96737)"
      ]
     },
     "execution_count": 41,
     "metadata": {},
     "output_type": "execute_result"
    }
   ],
   "source": [
    "X_train_vectorized_2 = vect2.transform(X_train)\n",
    "X_train_vectorized_2.shape"
   ]
  },
  {
   "cell_type": "code",
   "execution_count": 42,
   "metadata": {},
   "outputs": [
    {
     "name": "stdout",
     "output_type": "stream",
     "text": [
      "ROC AUC: 0.87 (+/- 0.00) | Accuracy: 0.90 (+/- 0.00) | f1 Score: 0.94 (+/- 0.00) [LR]\n",
      "ROC AUC: 0.62 (+/- 0.02) | Accuracy: 0.89 (+/- 0.00) | f1 Score: 0.94 (+/- 0.00) [RFC]\n",
      "ROC AUC: 0.70 (+/- 0.01) | Accuracy: 0.89 (+/- 0.00) | f1 Score: 0.94 (+/- 0.00) [DST]\n",
      "ROC AUC: 0.82 (+/- 0.01) | Accuracy: 0.85 (+/- 0.00) | f1 Score: 0.92 (+/- 0.00) [BNB]\n",
      "ROC AUC: 0.68 (+/- 0.01) | Accuracy: 0.89 (+/- 0.00) | f1 Score: 0.94 (+/- 0.00) [KNN]\n",
      "ROC AUC: 0.88 (+/- 0.01) | Accuracy: 0.92 (+/- 0.00) | f1 Score: 0.95 (+/- 0.00) [SVM]\n"
     ]
    },
    {
     "data": {
      "text/plain": [
       "(42, 5)"
      ]
     },
     "execution_count": 42,
     "metadata": {},
     "output_type": "execute_result"
    }
   ],
   "source": [
    "models = []\n",
    "models.append(('LR', LogisticRegression(penalty='l2', C=0.001)))\n",
    "models.append(('RFC', ensemble.RandomForestClassifier(n_estimators=25,max_features=8, max_depth=20)))\n",
    "models.append(('DST', DecisionTreeClassifier(max_depth=10, criterion='entropy')))\n",
    "models.append(('BNB',BernoulliNB()))\n",
    "models.append(('KNN',KNeighborsClassifier(n_neighbors=25)))\n",
    "models.append(('SVM', LinearSVC()))\n",
    "\n",
    "# Results dataframe\n",
    "#columns = ['Model', 'Approach', 'F1 Score mean', 'F1 Score std', 'AUC', 'Accuracy']\n",
    "#results = pd.DataFrame(columns=columns)\n",
    "\n",
    "# evaluate each model in turn\n",
    "names = []\n",
    "for name, model in models:\n",
    "    #predictions = model.predict(vect.transform(X_test))\n",
    "    a_scores = cross_val_score(estimator = model, X = X_train_vectorized_2, y = y_train, cv=10, scoring='accuracy')\n",
    "    scores = cross_val_score(estimator = model, X = X_train_vectorized_2, y = y_train, cv=10, scoring='roc_auc')\n",
    "    f1_scores = cross_val_score(estimator = model, X = X_train_vectorized_2, y = y_train, cv=10, scoring='f1')\n",
    "    \n",
    "    names.append(name)\n",
    "    row = [name, 'Tunning2 Training', f1_scores.mean(), scores.mean(), a_scores.mean() ]\n",
    "    results.loc[len(results)] = row\n",
    "    print(\"ROC AUC: %0.2f (+/- %0.2f) | Accuracy: %0.2f (+/- %0.2f) | f1 Score: %0.2f (+/- %0.2f) [%s]\" \n",
    "          %(scores.mean(), scores.std(), a_scores.mean(), a_scores.std(), f1_scores.mean(), f1_scores.std(), name))\n",
    "results.shape"
   ]
  },
  {
   "cell_type": "code",
   "execution_count": 43,
   "metadata": {},
   "outputs": [
    {
     "data": {
      "text/plain": [
       "96737"
      ]
     },
     "execution_count": 43,
     "metadata": {},
     "output_type": "execute_result"
    }
   ],
   "source": [
    "vect = CountVectorizer(min_df=10, ngram_range=(1,2)).fit(X_test)\n",
    "\n",
    "X_test_vectorized_2 = vect2.transform(X_test)\n",
    "\n",
    "len(vect2.get_feature_names())"
   ]
  },
  {
   "cell_type": "code",
   "execution_count": 44,
   "metadata": {},
   "outputs": [
    {
     "name": "stdout",
     "output_type": "stream",
     "text": [
      "ROC AUC: 0.82 (+/- 0.02) | Accuracy: 0.89 (+/- 0.00) | f1 Score: 0.94 (+/- 0.00) [LR]\n",
      "ROC AUC: 0.61 (+/- 0.02) | Accuracy: 0.89 (+/- 0.00) | f1 Score: 0.94 (+/- 0.00) [RFC]\n",
      "ROC AUC: 0.68 (+/- 0.02) | Accuracy: 0.89 (+/- 0.00) | f1 Score: 0.94 (+/- 0.00) [DST]\n",
      "ROC AUC: 0.72 (+/- 0.02) | Accuracy: 0.86 (+/- 0.01) | f1 Score: 0.93 (+/- 0.00) [BNB]\n",
      "ROC AUC: 0.68 (+/- 0.02) | Accuracy: 0.89 (+/- 0.00) | f1 Score: 0.94 (+/- 0.00) [KNN]\n",
      "ROC AUC: 0.86 (+/- 0.01) | Accuracy: 0.91 (+/- 0.00) | f1 Score: 0.95 (+/- 0.00) [SVM]\n"
     ]
    },
    {
     "data": {
      "text/plain": [
       "(48, 5)"
      ]
     },
     "execution_count": 44,
     "metadata": {},
     "output_type": "execute_result"
    }
   ],
   "source": [
    "#Fit into the model\n",
    "models = []\n",
    "models.append(('LR', LogisticRegression(penalty='l2', C=0.001)))\n",
    "models.append(('RFC', ensemble.RandomForestClassifier(n_estimators=25,max_features=8, max_depth=20)))\n",
    "models.append(('DST', DecisionTreeClassifier(max_depth=10, criterion='entropy')))\n",
    "models.append(('BNB',BernoulliNB()))\n",
    "models.append(('KNN',KNeighborsClassifier(n_neighbors=25)))\n",
    "models.append(('SVM', LinearSVC()))\n",
    "# evaluate each model in turn\n",
    "\n",
    "names = []\n",
    "for name, model in models:\n",
    "    #predictions = model.predict(vect.transform(X_test))\n",
    "    a_scores = cross_val_score(estimator = model, X = X_test_vectorized_2, y = y_test, cv=10, scoring='accuracy')\n",
    "    scores = cross_val_score(estimator = model, X = X_test_vectorized_2, y = y_test, cv=10, scoring='roc_auc')\n",
    "    f1_scores = cross_val_score(estimator = model, X = X_test_vectorized_2, y = y_test, cv=10, scoring='f1')\n",
    "    \n",
    "    names.append(name)\n",
    "    \n",
    "    row = [name, 'Tunning2 Test', f1_scores.mean(), scores.mean(), a_scores.mean() ]\n",
    "    results.loc[len(results)] = row\n",
    "    \n",
    "    print(\"ROC AUC: %0.2f (+/- %0.2f) | Accuracy: %0.2f (+/- %0.2f) | f1 Score: %0.2f (+/- %0.2f) [%s]\" %(scores.mean(), scores.std(), a_scores.mean(), a_scores.std(), f1_scores.mean(), f1_scores.std(), name))\n",
    "    \n",
    "results.shape"
   ]
  },
  {
   "cell_type": "markdown",
   "metadata": {},
   "source": [
    "Let us see the results of all the experiments above."
   ]
  },
  {
   "cell_type": "code",
   "execution_count": 45,
   "metadata": {},
   "outputs": [
    {
     "data": {
      "image/png": "[encoded data removed]",
      "text/plain": [
       "<matplotlib.figure.Figure at 0x1a02747e7b8>"
      ]
     },
     "metadata": {},
     "output_type": "display_data"
    }
   ],
   "source": [
    "f,(ax1, ax2,ax3) = plt.subplots(3,1,figsize = (15,30), sharex = True)\n",
    "sns.axes_style()\n",
    "plt.title(\"Comparison of various model performance\")\n",
    "plt.xticks(rotation=30)\n",
    "g = sns.barplot(x = \"Model\", y= \"F1 Score mean\", hue=\"Approach\", data=results , ax = ax1)\n",
    "g = sns.barplot(x = \"Model\", y= \"AUC\", hue=\"Approach\", data=results, ax = ax2)\n",
    "g = sns.barplot(x = \"Model\", y= \"Accuracy\", hue=\"Approach\", data=results , ax = ax3);"
   ]
  },
  {
   "cell_type": "markdown",
   "metadata": {},
   "source": [
    "## Conclusion"
   ]
  },
  {
   "cell_type": "markdown",
   "metadata": {
    "collapsed": true
   },
   "source": [
    "We have taken 100000 samples from over 22 million reviews of books.During the data analysis we realised the data to be unbalanced. More than 88% of the showed positive reviews. Considering accuracy as an evaluation metrics wont give us correct results.So area under curve and F1 score were used to evaluate different models.\n",
    "\n",
    "In order to do the sentiment analysis I used Bag of Words approach and Tfidf (term frequency and document frequency approach).\n",
    "\n",
    "I used following models to analyse the sentiments from the books review:\n",
    "    \n",
    "    1.Logistic Regression,\n",
    "    2.Random forest clasifier,\n",
    "    3.Decision tree Classifier,\n",
    "    4.Bernoulli Naive Bayes.\n",
    "    5.K Nearest Neighbour,\n",
    "    6.SVM.\n",
    "    \n",
    "In the Bag of words approach it is found that SVM performs better than other 5 models.After tunning the parameters it is found that with the value of C= 0.1 SVM gave best results.\n",
    "    \n",
    "After doing Tfidf approach some tunning of vectorizer is also done by adding the n_gram range (1,2).Also by removing the words that are not used more than 10 time in the reviews.\n",
    "    \n",
    "In data analysis the word books have maximum frequency. Considering it as neutral(neither positive nor negative) word tried to tune the model by removing word 'books' from the data.\n",
    "    \n",
    "The results seems interesting.\n",
    "    \n",
    "The Tfidf approach performed well with SVM model amongst all. We got f1 score to be 96%, AUC to be 94% and accuracy to be 93%"
   ]
  },
  {
   "cell_type": "markdown",
   "metadata": {},
   "source": [
    "### Referances"
   ]
  },
  {
   "cell_type": "markdown",
   "metadata": {},
   "source": [
    "http://www.nltk.org/\n",
    "    \n",
    "    \n",
    "https://www.packtpub.com/mapt/book/big_data_and_business_intelligence/9781784390150/11/ch11lvl1sec71/creating-a-wordcloud\n"
   ]
  }
 ],
 "metadata": {
  "anaconda-cloud": {},
  "kernelspec": {
   "display_name": "Python [default]",
   "language": "python",
   "name": "python3"
  },
  "language_info": {
   "codemirror_mode": {
    "name": "ipython",
    "version": 3
   },
   "file_extension": ".py",
   "mimetype": "text/x-python",
   "name": "python",
   "nbconvert_exporter": "python",
   "pygments_lexer": "ipython3",
   "version": "3.5.3"
  }
 },
 "nbformat": 4,
 "nbformat_minor": 2
}
